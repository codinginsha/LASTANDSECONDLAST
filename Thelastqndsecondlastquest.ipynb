{
 "cells": [
  {
   "cell_type": "code",
   "execution_count": null,
   "id": "30b932a8-80ba-4b68-b833-655c18571d43",
   "metadata": {},
   "outputs": [],
   "source": [
    "##THE QUEST OF PALINDROME:----->>>>>>>>\n",
    "num=(input(\"Enter the number:\"))\n",
    "rverse= num[ : :-1]\n",
    "add_num = int(num) + int(rverse)\n",
    "reverse_add_num = str(add_num)[ : :-1]\n",
    "if(str(add_num) == reverse_add_num):\n",
    "  print(\"The sum is palindrome\")\n",
    "else:\n",
    "  print( \"The sum is not palindrome\")\n",
    "\n",
    "print(f\"The sum of {num} and its reverse is {rverse}\")\n",
    "print(f\"The addition of number and its reverse is  {add_num} \\n and the reverse of the addition of the number is {reverse_add_num}\")\n",
    "\n",
    "##THE LAST QUEST:-------->>>>>>>>>\n",
    "def five_digit_num():\n",
    "  '''Enter all the digits in the range of 0-9'''\n",
    "  print(five_digit_num.__doc__)\n",
    "  t1 = int(input(\"Enter the first value: \"))\n",
    "  t2 = int(input(\"Enter the second value: \"))\n",
    "  t3 = int(input(\"Enter the third value: \"))\n",
    "  t4 = int(input(\"Enter the fourth value: \"))\n",
    "  t5 = int(input(\"Enter the fifth value: \"))\n",
    "  t1 = t2 - 2\n",
    "  t2 = t3 - 2\n",
    "  t4 = t3 - 2\n",
    "  t5 = t4 + 2\n",
    "  print(f\"The five-digit number is {t1}{t2}{t3}{t4}{t5}\")  \n",
    "  if (int(t3) +int(t4) + int(t5) == int(t1)) and (t1 + t2 + t3 + t4 + t5 == 19):\n",
    "      print(f\"The valid five-digit number is {t1}{t2}{t3}{t4}{t5}\")\n",
    "  else:\n",
    "      print(\"Invalid numbers\")\n",
    "\n",
    "\n",
    "five_digit_num()\n",
    "\n"
   ]
  }
 ],
 "metadata": {
  "kernelspec": {
   "display_name": "Python 3 (ipykernel)",
   "language": "python",
   "name": "python3"
  },
  "language_info": {
   "codemirror_mode": {
    "name": "ipython",
    "version": 3
   },
   "file_extension": ".py",
   "mimetype": "text/x-python",
   "name": "python",
   "nbconvert_exporter": "python",
   "pygments_lexer": "ipython3",
   "version": "3.12.4"
  }
 },
 "nbformat": 4,
 "nbformat_minor": 5
}
